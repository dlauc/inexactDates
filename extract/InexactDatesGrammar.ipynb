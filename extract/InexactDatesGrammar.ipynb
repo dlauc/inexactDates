{
 "cells": [
  {
   "cell_type": "markdown",
   "metadata": {
    "colab_type": "text",
    "id": "view-in-github"
   },
   "source": [
    "<a href=\"https://colab.research.google.com/github/dlauc/inexactDates/blob/master/extract/InexactDatesGrammar.ipynb\" target=\"_parent\"><img src=\"https://colab.research.google.com/assets/colab-badge.svg\" alt=\"Open In Colab\"/></a>"
   ]
  },
  {
   "cell_type": "markdown",
   "metadata": {
    "colab_type": "text",
    "id": "LdK9vahtMNkV"
   },
   "source": [
    "# Gramatika nepreciznih datuma\n",
    "## Cilj: generirati većinu temporalnih izraza koji se često javljaju u wikipediji \n",
    "Razlog: pripremiti dataset za učenje pretvaranja tekstualnog datuma u strukturirani oblik\n"
   ]
  },
  {
   "cell_type": "code",
   "execution_count": 4,
   "metadata": {
    "colab": {},
    "colab_type": "code",
    "id": "pm10ZsJxMIIB"
   },
   "outputs": [],
   "source": [
    "from nltk.parse.generate import generate\n",
    "from nltk import ChartParser, FeatureEarleyChartParser\n",
    "from nltk.grammar import CFG, FeatureGrammar\n",
    "import pandas as pd\n",
    "#!pip install num2words\n",
    "\n"
   ]
  },
  {
   "cell_type": "code",
   "execution_count": 5,
   "metadata": {
    "colab": {
     "base_uri": "https://localhost:8080/",
     "height": 367
    },
    "colab_type": "code",
    "id": "4hdUe9F27bzs",
    "outputId": "f3341c25-ab15-4f24-8215-129a8d5abfeb"
   },
   "outputs": [
    {
     "name": "stdout",
     "output_type": "stream",
     "text": [
      "XV fifteenth 15th fifteen fifteen\n",
      "IV fourth 4th four four\n"
     ]
    }
   ],
   "source": [
    "#!pip install num2words\n",
    "from num2words import num2words\n",
    "# pomoćni\n",
    "def int_to_roman(input):\n",
    "    if not isinstance(input, type(1)):\n",
    "        raise(TypeError, \"expected integer, got %s\" % type(input))\n",
    "    if not 0 < input < 4000:\n",
    "        raise(ValueError, \"Argument must be between 1 and 3999\")\n",
    "    ints = (1000, 900,  500, 400, 100,  90, 50,  40, 10,  9,   5,  4,   1)\n",
    "    nums = ('M',  'CM', 'D', 'CD','C', 'XC','L','XL','X','IX','V','IV','I')\n",
    "    result = []\n",
    "    for i in range(len(ints)):\n",
    "        count = int(input / ints[i])\n",
    "        result.append(nums[i] * count)\n",
    "        input -= ints[i] * count\n",
    "    return ''.join(result)\n",
    "\n",
    "# test\n",
    "br = [15,4]\n",
    "for i in br:\n",
    "  print(int_to_roman(i), num2words(i,to='ordinal', lang='en'), num2words(i,to='ordinal_num', lang='en'), num2words(i,to='year', lang='en'), num2words(i,to='cardinal', lang='en'))\n"
   ]
  },
  {
   "cell_type": "code",
   "execution_count": 7,
   "metadata": {
    "colab": {
     "base_uri": "https://localhost:8080/",
     "height": 231
    },
    "colab_type": "code",
    "id": "eZo27q7x7QgQ",
    "outputId": "82064152-811c-4bfc-a910-6e4758ea0040"
   },
   "outputs": [
    {
     "name": "stdout",
     "output_type": "stream",
     "text": [
      "the I. century\n",
      "the I. cent.\n",
      "the I. c.\n",
      "the I. century AD\n",
      "the I. century CE\n",
      "the I. century A.D.\n",
      "the I. century C.E.\n",
      "the I. cent. AD\n",
      "the I. cent. CE\n",
      "the I. cent. A.D.\n",
      "the I. cent. C.E.\n",
      "the I. c. AD\n",
      "the I. c. CE\n",
      "the I. c. A.D.\n",
      "the I. c. C.E.\n",
      "the I century\n",
      "the I cent.\n",
      "the I c.\n",
      "the I century AD\n",
      "the I century CE\n",
      "the I century A.D.\n",
      "the I century C.E.\n",
      "the I cent. AD\n",
      "the I cent. CE\n",
      "the I cent. A.D.\n",
      "the I cent. C.E.\n",
      "the I c. AD\n",
      "the I c. CE\n",
      "the I c. A.D.\n",
      "the I c. C.E.\n",
      "the Ist century\n",
      "the Ist cent.\n",
      "the Ist c.\n",
      "the Ist century AD\n",
      "the Ist century CE\n",
      "the Ist century A.D.\n",
      "the Ist century C.E.\n",
      "the Ist cent. AD\n",
      "the Ist cent. CE\n",
      "the Ist cent. A.D.\n",
      "the Ist cent. C.E.\n",
      "the Ist c. AD\n",
      "the Ist c. CE\n",
      "the Ist c. A.D.\n",
      "the Ist c. C.E.\n",
      "the 1. century\n",
      "the 1. cent.\n",
      "the 1. c.\n",
      "the 1. century AD\n",
      "the 1. century CE\n",
      "the 1. century A.D.\n",
      "the 1. century C.E.\n",
      "the 1. cent. AD\n",
      "the 1. cent. CE\n",
      "the 1. cent. A.D.\n",
      "the 1. cent. C.E.\n",
      "the 1. c. AD\n",
      "the 1. c. CE\n",
      "the 1. c. A.D.\n",
      "the 1. c. C.E.\n",
      "the 1 century\n",
      "the 1 cent.\n",
      "the 1 c.\n",
      "the 1 century AD\n",
      "the 1 century CE\n",
      "the 1 century A.D.\n",
      "the 1 century C.E.\n",
      "the 1 cent. AD\n",
      "the 1 cent. CE\n",
      "the 1 cent. A.D.\n",
      "the 1 cent. C.E.\n",
      "the 1 c. AD\n",
      "the 1 c. CE\n",
      "the 1 c. A.D.\n",
      "the 1 c. C.E.\n",
      "the 1st century\n",
      "the 1st cent.\n",
      "the 1st c.\n",
      "the 1st century AD\n",
      "the 1st century CE\n",
      "the 1st century A.D.\n",
      "the 1st century C.E.\n",
      "the 1st cent. AD\n",
      "the 1st cent. CE\n",
      "the 1st cent. A.D.\n",
      "the 1st cent. C.E.\n",
      "the 1st c. AD\n",
      "the 1st c. CE\n",
      "the 1st c. A.D.\n",
      "the 1st c. C.E.\n",
      "the one century\n",
      "the one cent.\n",
      "the one c.\n",
      "the one century AD\n",
      "the one century CE\n",
      "the one century A.D.\n",
      "the one century C.E.\n",
      "the one cent. AD\n",
      "the one cent. CE\n",
      "the one cent. A.D.\n"
     ]
    }
   ],
   "source": [
    "# Gramatika za stoljeća\n",
    "\n",
    "STOLJG = \"\"\"\n",
    "S[NORM=?n,QUAL=?q] -> STOLJ[NORM=?n,QUAL=?q] \n",
    "CENT -> 'century'|'cent.'|'c.'\n",
    "AD -> 'AD'|'CE'|'A.D.'|'C.E.'\n",
    "BC -> 'BC'|'BCE'|'B.C.'|'B.C.E.'\n",
    "STOLJ_N -> CENT | CENT AD\n",
    "STOLJ_O -> CENT BC\n",
    "STOLJ_P[QUAL='start'] -> 'the' 'early' | 'the start of the' | 'the start of' | 'start of the' | 'start of' | 'the beginning of the' | 'the beginning of' | 'beginning of the' | 'beginning of' | 'beginning in' | 'beginning in the' | 'early' | 'the early' | 'early in the' | 'early in' | 'the early years of the' | 'the early years in the' | 'early years of the' | 'early years of'\n",
    "STOLJ_P[QUAL='end'] -> 'the late' | 'late' | 'the end of the' | 'the end of' | 'end of' | 'end of the' | 'later'\n",
    "STOLJ_P[QUAL='mid'] -> 'the mid-' | 'the middle of the' | 'the mid' | 'mid-' | 'mid'\n",
    "STOLJ_P[QUAL='fhalf'] -> 'the first half of the' | 'first half of the' | 'first half of'\n",
    "STOLJ_P[QUAL='shalf'] -> 'the second half' | 'the second half of the' | 'the letter half of the' | 'the letter half'\n",
    "STOLJ_P[QUAL='dec'] -> 'the early decades of the' | 'the early decades of' | 'early decades of the' | 'early decades of' | 'the last decades of the' | 'the last decades of' | 'last decades of the' | 'last decades of' | 'the first two decades of the' | 'the first two decades of' | 'first two decades of' | 'first two decades of the' | 'the last two decades of the' | 'the last two decades of' | 'last two decades of the' | 'last two decades of' | 'first treee decades of the' | 'first tree decades of' | 'the first tree decades of the' | 'the first tree decades of' | 'the last tree decades of the' | 'the last tree decades of' | 'last tree decades of the' | 'last tree decades of'\n",
    "STOLJ_P[QUAL='quart'] -> 'the last quarter of the' | 'the last quarter of' | 'last quarter of the' | 'last quarter of' | 'the first quarter of the' | 'the first quarter of' | 'first quarter of the' | 'first quarter of'\n",
    "STOLJ[NORM=?n,QUAL='0'] -> 'the' STOLJ_S[NORM=?n] STOLJ_N | STOLJ[NORM=?n] STOLJ_N\n",
    "STOLJ[NORM=?n,QUAL=?q] -> STOLJ_P[QUAL=?q] STOLJ_S[NORM=?n] STOLJ_N\n",
    "STOLJ[NORM=?n,QUAL=?q] -> STOLJ_P[QUAL=?q] STOLJ_PNE[NORM=?n] STOLJ_O\n",
    "\"\"\"\n",
    "\n",
    "for i in range(1,25):\n",
    "  format_str = (i-1, int_to_roman(i),  int_to_roman(i),  int_to_roman(i)+num2words(i,to='ordinal', lang='en')[-2:], \n",
    "                i,i,num2words(i,to='ordinal_num', lang='en'), num2words(i,to='cardinal', lang='en'), num2words(i,to='ordinal', lang='en'))\n",
    "  p = \"STOLJ_S[NORM='{:02d}xx'] -> '{}.'|'{}'|'{}'|'{}.'|'{}'|'{}'|'{}'|'{}'\".format(*format_str)\n",
    "  STOLJG += p+'\\n'\n",
    "  #print(p)\n",
    "\n",
    "for i in range(-50,-1):\n",
    "  format_str = (-i-1, int_to_roman(-i),  int_to_roman(-i),  int_to_roman(-i)+num2words(-i,to='ordinal', lang='en')[-2:], \n",
    "                -i,-i,num2words(-i,to='ordinal_num', lang='en'), num2words(-i,to='cardinal', lang='en'), num2words(-i,to='ordinal', lang='en'))\n",
    "  p = \"STOLJ_PNE[NORM='-{:02d}xx'] -> '{}.'|'{}'|'{}'|'{}.'|'{}'|'{}'|'{}'|'{}'\".format(*format_str)\n",
    "  STOLJG += p+'\\n'\n",
    "  #print(p)\n",
    "    \n",
    "gname = 'idg.cfg'\n",
    "with open('idg.cfg','w') as fo:\n",
    "    fo.write(STOLJG)\n",
    "!git add $gname\n",
    "\n",
    "# generiranje\n",
    "grammar = FeatureGrammar.fromstring(STOLJG)\n",
    "for sentence in generate(grammar, n=100):\n",
    "    print(' '.join(sentence))\n"
   ]
  },
  {
   "cell_type": "code",
   "execution_count": 0,
   "metadata": {
    "colab": {
     "base_uri": "https://localhost:8080/",
     "height": 34
    },
    "colab_type": "code",
    "id": "C3Ze7N8_HX7W",
    "outputId": "488a9462-542b-4d3d-8106-d94ae2f90e77"
   },
   "outputs": [
    {
     "name": "stdout",
     "output_type": "stream",
     "text": [
      "različitih oblika = 3163, ukupno = 97519\n"
     ]
    }
   ],
   "source": [
    "# spominjanje stoljeća u wikiju\n",
    "df1 = pd.read_csv('https://github.com/dlauc/inexactDates/raw/master/stoljeca_wiki.csv')\n",
    "print('različitih oblika = {}, ukupno = {}'.format(df1.text.count(), df1.n.sum()))\n"
   ]
  },
  {
   "cell_type": "code",
   "execution_count": 0,
   "metadata": {
    "colab": {
     "base_uri": "https://localhost:8080/",
     "height": 231
    },
    "colab_type": "code",
    "id": "DBgBe-c_PzSJ",
    "outputId": "5a3b627a-5947-4330-eb38-b24260d9f9ba"
   },
   "outputs": [
    {
     "ename": "NameError",
     "evalue": "ignored",
     "output_type": "error",
     "traceback": [
      "\u001b[0;31m---------------------------------------------------------------------------\u001b[0m",
      "\u001b[0;31mNameError\u001b[0m                                 Traceback (most recent call last)",
      "\u001b[0;32m<ipython-input-17-8d272708036e>\u001b[0m in \u001b[0;36m<module>\u001b[0;34m()\u001b[0m\n\u001b[0;32m----> 1\u001b[0;31m \u001b[0mparser\u001b[0m \u001b[0;34m=\u001b[0m \u001b[0mFeatureEarleyChartParser\u001b[0m\u001b[0;34m(\u001b[0m\u001b[0mgrammar\u001b[0m\u001b[0;34m)\u001b[0m\u001b[0;34m\u001b[0m\u001b[0;34m\u001b[0m\u001b[0m\n\u001b[0m\u001b[1;32m      2\u001b[0m \u001b[0mtest\u001b[0m \u001b[0;34m=\u001b[0m \u001b[0mdf1\u001b[0m\u001b[0;34m[\u001b[0m\u001b[0mdf1\u001b[0m\u001b[0;34m.\u001b[0m\u001b[0mn\u001b[0m\u001b[0;34m>\u001b[0m\u001b[0;36m100\u001b[0m\u001b[0;34m]\u001b[0m\u001b[0;34m\u001b[0m\u001b[0;34m\u001b[0m\u001b[0m\n\u001b[1;32m      3\u001b[0m \u001b[0mtest\u001b[0m \u001b[0;34m=\u001b[0m \u001b[0mtest\u001b[0m\u001b[0;34m.\u001b[0m\u001b[0msort_values\u001b[0m\u001b[0;34m(\u001b[0m\u001b[0mby\u001b[0m\u001b[0;34m=\u001b[0m\u001b[0;34m[\u001b[0m\u001b[0;34m'n'\u001b[0m\u001b[0;34m]\u001b[0m\u001b[0;34m,\u001b[0m \u001b[0mascending\u001b[0m\u001b[0;34m=\u001b[0m\u001b[0;32mFalse\u001b[0m\u001b[0;34m)\u001b[0m\u001b[0;34m.\u001b[0m\u001b[0mreset_index\u001b[0m\u001b[0;34m(\u001b[0m\u001b[0mdrop\u001b[0m\u001b[0;34m=\u001b[0m\u001b[0;32mTrue\u001b[0m\u001b[0;34m)\u001b[0m\u001b[0;34m\u001b[0m\u001b[0;34m\u001b[0m\u001b[0m\n\u001b[1;32m      4\u001b[0m \u001b[0;34m\u001b[0m\u001b[0m\n\u001b[1;32m      5\u001b[0m \u001b[0;31m#print(test[0:100])\u001b[0m\u001b[0;34m\u001b[0m\u001b[0;34m\u001b[0m\u001b[0;34m\u001b[0m\u001b[0m\n",
      "\u001b[0;31mNameError\u001b[0m: name 'grammar' is not defined"
     ]
    }
   ],
   "source": [
    "# prepoznavanje test\n",
    "parser = FeatureEarleyChartParser(grammar)\n",
    "test = df1[df1.n>100]\n",
    "test = test.sort_values(by=['n'], ascending=False).reset_index(drop=True)\n",
    "\n",
    "#print(test[0:100])\n",
    "for i in range(0,100):\n",
    "  s = test.at[i,'text'].split()\n",
    "  try:\n",
    "      trees = list(parser.parse(s))\n",
    "      if len(trees) == 0:\n",
    "        print(s, 'neprepoznato')\n",
    "      else:\n",
    "        print(s, 'OK')\n",
    "  except Exception as e:\n",
    "    print(e)"
   ]
  },
  {
   "cell_type": "code",
   "execution_count": 0,
   "metadata": {
    "colab": {},
    "colab_type": "code",
    "id": "poiCGyl9fM1E"
   },
   "outputs": [],
   "source": [
    "#\n"
   ]
  },
  {
   "cell_type": "markdown",
   "metadata": {
    "colab_type": "text",
    "id": "1wYjzr-EHXM8"
   },
   "source": []
  }
 ],
 "metadata": {
  "colab": {
   "collapsed_sections": [],
   "name": "InexactDatesGrammar.ipynb",
   "provenance": []
  },
  "kernelspec": {
   "display_name": "Python 3",
   "language": "python",
   "name": "python3"
  },
  "language_info": {
   "codemirror_mode": {
    "name": "ipython",
    "version": 3
   },
   "file_extension": ".py",
   "mimetype": "text/x-python",
   "name": "python",
   "nbconvert_exporter": "python",
   "pygments_lexer": "ipython3",
   "version": "3.6.9"
  }
 },
 "nbformat": 4,
 "nbformat_minor": 1
}

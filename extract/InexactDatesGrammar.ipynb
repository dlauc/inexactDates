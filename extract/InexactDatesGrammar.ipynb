{
  "nbformat": 4,
  "nbformat_minor": 0,
  "metadata": {
    "colab": {
      "name": "InexactDatesGrammar.ipynb",
      "provenance": [],
      "collapsed_sections": [],
      "include_colab_link": true
    },
    "kernelspec": {
      "name": "python3",
      "display_name": "Python 3"
    }
  },
  "cells": [
    {
      "cell_type": "markdown",
      "metadata": {
        "id": "view-in-github",
        "colab_type": "text"
      },
      "source": [
        "<a href=\"https://colab.research.google.com/github/dlauc/inexactDates/blob/master/extract/InexactDatesGrammar.ipynb\" target=\"_parent\"><img src=\"https://colab.research.google.com/assets/colab-badge.svg\" alt=\"Open In Colab\"/></a>"
      ]
    },
    {
      "cell_type": "markdown",
      "metadata": {
        "id": "LdK9vahtMNkV",
        "colab_type": "text"
      },
      "source": [
        "# Gramatika nepreciznih datuma\n",
        "## Cilj: generirati većinu temporalnih izraza koji se često javljaju u wikipediji \n",
        "Razlog: pripremiti dataset za učenje pretvaranja tekstualnog datuma u strukturirani oblik\n"
      ]
    },
    {
      "cell_type": "code",
      "metadata": {
        "id": "pm10ZsJxMIIB",
        "colab_type": "code",
        "colab": {}
      },
      "source": [
        "from nltk.parse.generate import generate\n",
        "from nltk import ChartParser, FeatureEarleyChartParser\n",
        "from nltk.grammar import CFG, FeatureGrammar\n",
        "import pandas as pd\n",
        "\n"
      ],
      "execution_count": 0,
      "outputs": []
    },
    {
      "cell_type": "code",
      "metadata": {
        "id": "4hdUe9F27bzs",
        "colab_type": "code",
        "outputId": "f3341c25-ab15-4f24-8215-129a8d5abfeb",
        "colab": {
          "base_uri": "https://localhost:8080/",
          "height": 367
        }
      },
      "source": [
        "#!pip install num2words\n",
        "from num2words import num2words\n",
        "# pomoćni\n",
        "def int_to_roman(input):\n",
        "    if not isinstance(input, type(1)):\n",
        "        raise(TypeError, \"expected integer, got %s\" % type(input))\n",
        "    if not 0 < input < 4000:\n",
        "        raise(ValueError, \"Argument must be between 1 and 3999\")\n",
        "    ints = (1000, 900,  500, 400, 100,  90, 50,  40, 10,  9,   5,  4,   1)\n",
        "    nums = ('M',  'CM', 'D', 'CD','C', 'XC','L','XL','X','IX','V','IV','I')\n",
        "    result = []\n",
        "    for i in range(len(ints)):\n",
        "        count = int(input / ints[i])\n",
        "        result.append(nums[i] * count)\n",
        "        input -= ints[i] * count\n",
        "    return ''.join(result)\n",
        "\n",
        "# test\n",
        "br = [15,4]\n",
        "for i in br:\n",
        "  print(int_to_roman(i), num2words(i,to='ordinal', lang='en'), num2words(i,to='ordinal_num', lang='en'), num2words(i,to='year', lang='en'), num2words(i,to='cardinal', lang='en'))\n"
      ],
      "execution_count": 0,
      "outputs": [
        {
          "output_type": "error",
          "ename": "ModuleNotFoundError",
          "evalue": "ignored",
          "traceback": [
            "\u001b[0;31m---------------------------------------------------------------------------\u001b[0m",
            "\u001b[0;31mModuleNotFoundError\u001b[0m                       Traceback (most recent call last)",
            "\u001b[0;32m<ipython-input-14-12c590e01676>\u001b[0m in \u001b[0;36m<module>\u001b[0;34m()\u001b[0m\n\u001b[0;32m----> 1\u001b[0;31m \u001b[0;32mfrom\u001b[0m \u001b[0mnum2words\u001b[0m \u001b[0;32mimport\u001b[0m \u001b[0mnum2words\u001b[0m\u001b[0;34m\u001b[0m\u001b[0;34m\u001b[0m\u001b[0m\n\u001b[0m\u001b[1;32m      2\u001b[0m \u001b[0;31m# pomoćni\u001b[0m\u001b[0;34m\u001b[0m\u001b[0;34m\u001b[0m\u001b[0;34m\u001b[0m\u001b[0m\n\u001b[1;32m      3\u001b[0m \u001b[0;32mdef\u001b[0m \u001b[0mint_to_roman\u001b[0m\u001b[0;34m(\u001b[0m\u001b[0minput\u001b[0m\u001b[0;34m)\u001b[0m\u001b[0;34m:\u001b[0m\u001b[0;34m\u001b[0m\u001b[0;34m\u001b[0m\u001b[0m\n\u001b[1;32m      4\u001b[0m     \u001b[0;32mif\u001b[0m \u001b[0;32mnot\u001b[0m \u001b[0misinstance\u001b[0m\u001b[0;34m(\u001b[0m\u001b[0minput\u001b[0m\u001b[0;34m,\u001b[0m \u001b[0mtype\u001b[0m\u001b[0;34m(\u001b[0m\u001b[0;36m1\u001b[0m\u001b[0;34m)\u001b[0m\u001b[0;34m)\u001b[0m\u001b[0;34m:\u001b[0m\u001b[0;34m\u001b[0m\u001b[0;34m\u001b[0m\u001b[0m\n\u001b[1;32m      5\u001b[0m         \u001b[0;32mraise\u001b[0m\u001b[0;34m(\u001b[0m\u001b[0mTypeError\u001b[0m\u001b[0;34m,\u001b[0m \u001b[0;34m\"expected integer, got %s\"\u001b[0m \u001b[0;34m%\u001b[0m \u001b[0mtype\u001b[0m\u001b[0;34m(\u001b[0m\u001b[0minput\u001b[0m\u001b[0;34m)\u001b[0m\u001b[0;34m)\u001b[0m\u001b[0;34m\u001b[0m\u001b[0;34m\u001b[0m\u001b[0m\n",
            "\u001b[0;31mModuleNotFoundError\u001b[0m: No module named 'num2words'",
            "",
            "\u001b[0;31m---------------------------------------------------------------------------\u001b[0;32m\nNOTE: If your import is failing due to a missing package, you can\nmanually install dependencies using either !pip or !apt.\n\nTo view examples of installing some common dependencies, click the\n\"Open Examples\" button below.\n\u001b[0;31m---------------------------------------------------------------------------\u001b[0m\n"
          ]
        }
      ]
    },
    {
      "cell_type": "code",
      "metadata": {
        "id": "eZo27q7x7QgQ",
        "colab_type": "code",
        "outputId": "82064152-811c-4bfc-a910-6e4758ea0040",
        "colab": {
          "base_uri": "https://localhost:8080/",
          "height": 231
        }
      },
      "source": [
        "# Gramatika za stoljeća\n",
        "\n",
        "STOLJG = \"\"\"\n",
        "S[NORM=?n,QUAL=?q] -> STOLJ[NORM=?n,QUAL=?q] \n",
        "CENT -> 'century'|'cent.'|'c.'\n",
        "AD -> 'AD'|'CE'|'A.D.'|'C.E.'\n",
        "BC -> 'BC'|'BCE'|'B.C.'|'B.C.E.'\n",
        "STOLJ_N -> CENT | CENT AD\n",
        "STOLJ_O -> CENT BC\n",
        "STOLJ_P[QUAL='start'] -> 'the' 'early' | 'the start of the' | 'the start of' | 'start of the' | 'start of' | 'the beginning of the' | 'the beginning of' | 'beginning of the' | 'beginning of' | 'beginning in' | 'beginning in the' | 'early' | 'the early' | 'early in the' | 'early in' | 'the early years of the' | 'the early years in the' | 'early years of the' | 'early years of'\n",
        "STOLJ_P[QUAL='end'] -> 'the late' | 'late' | 'the end of the' | 'the end of' | 'end of' | 'end of the' | 'later'\n",
        "STOLJ_P[QUAL='mid'] -> 'the mid-' | 'the middle of the' | 'the mid' | 'mid-' | 'mid'\n",
        "STOLJ_P[QUAL='fhalf'] -> 'the first half of the' | 'first half of the' | 'first half of'\n",
        "STOLJ_P[QUAL='shalf'] -> 'the second half' | 'the second half of the' | 'the letter half of the' | 'the letter half'\n",
        "STOLJ_P[QUAL='dec'] -> 'the early decades of the' | 'the early decades of' | 'early decades of the' | 'early decades of' | 'the last decades of the' | 'the last decades of' | 'last decades of the' | 'last decades of' | 'the first two decades of the' | 'the first two decades of' | 'first two decades of' | 'first two decades of the' | 'the last two decades of the' | 'the last two decades of' | 'last two decades of the' | 'last two decades of' | 'first treee decades of the' | 'first tree decades of' | 'the first tree decades of the' | 'the first tree decades of' | 'the last tree decades of the' | 'the last tree decades of' | 'last tree decades of the' | 'last tree decades of'\n",
        "STOLJ_P[QUAL='quart'] -> 'the last quarter of the' | 'the last quarter of' | 'last quarter of the' | 'last quarter of' | 'the first quarter of the' | 'the first quarter of' | 'first quarter of the' | 'first quarter of'\n",
        "STOLJ[NORM=?n,QUAL='0'] -> 'the' STOLJ_S[NORM=?n] STOLJ_N | STOLJ[NORM=?n] STOLJ_N\n",
        "STOLJ[NORM=?n,QUAL=?q] -> STOLJ_P[QUAL=?q] STOLJ_S[NORM=?n] STOLJ_N\n",
        "STOLJ[NORM=?n,QUAL=?q] -> STOLJ_P[QUAL=?q] STOLJ_PNE[NORM=?n] STOLJ_O\n",
        "\"\"\"\n",
        "\n",
        "for i in range(1,25):\n",
        "  format_str = (i-1, int_to_roman(i),  int_to_roman(i),  int_to_roman(i)+num2words(i,to='ordinal', lang='en')[-2:], \n",
        "                i,i,num2words(i,to='ordinal_num', lang='en'), num2words(i,to='cardinal', lang='en'), num2words(i,to='ordinal', lang='en'))\n",
        "  p = \"STOLJ_S[NORM='{:02d}xx'] -> '{}.'|'{}'|'{}'|'{}.'|'{}'|'{}'|'{}'|'{}'\".format(*format_str)\n",
        "  STOLJG += p+'\\n'\n",
        "  #print(p)\n",
        "\n",
        "for i in range(-50,-1):\n",
        "  format_str = (-i-1, int_to_roman(-i),  int_to_roman(-i),  int_to_roman(-i)+num2words(-i,to='ordinal', lang='en')[-2:], \n",
        "                -i,-i,num2words(-i,to='ordinal_num', lang='en'), num2words(-i,to='cardinal', lang='en'), num2words(-i,to='ordinal', lang='en'))\n",
        "  p = \"STOLJ_PNE[NORM='-{:02d}xx'] -> '{}.'|'{}'|'{}'|'{}.'|'{}'|'{}'|'{}'|'{}'\".format(*format_str)\n",
        "  STOLJG += p+'\\n'\n",
        "  #print(p)\n",
        "\n",
        "# generiranje\n",
        "grammar = FeatureGrammar.fromstring(STOLJG)\n",
        "for sentence in generate(grammar, n=100):\n",
        "    print(' '.join(sentence))\n"
      ],
      "execution_count": 0,
      "outputs": [
        {
          "output_type": "error",
          "ename": "NameError",
          "evalue": "ignored",
          "traceback": [
            "\u001b[0;31m---------------------------------------------------------------------------\u001b[0m",
            "\u001b[0;31mNameError\u001b[0m                                 Traceback (most recent call last)",
            "\u001b[0;32m<ipython-input-15-4e4812e7b548>\u001b[0m in \u001b[0;36m<module>\u001b[0;34m()\u001b[0m\n\u001b[1;32m     20\u001b[0m \u001b[0;34m\u001b[0m\u001b[0m\n\u001b[1;32m     21\u001b[0m \u001b[0;32mfor\u001b[0m \u001b[0mi\u001b[0m \u001b[0;32min\u001b[0m \u001b[0mrange\u001b[0m\u001b[0;34m(\u001b[0m\u001b[0;36m1\u001b[0m\u001b[0;34m,\u001b[0m\u001b[0;36m25\u001b[0m\u001b[0;34m)\u001b[0m\u001b[0;34m:\u001b[0m\u001b[0;34m\u001b[0m\u001b[0;34m\u001b[0m\u001b[0m\n\u001b[0;32m---> 22\u001b[0;31m   format_str = (i-1, int_to_roman(i),  int_to_roman(i),  int_to_roman(i)+num2words(i,to='ordinal', lang='en')[-2:], \n\u001b[0m\u001b[1;32m     23\u001b[0m                 i,i,num2words(i,to='ordinal_num', lang='en'), num2words(i,to='cardinal', lang='en'), num2words(i,to='ordinal', lang='en'))\n\u001b[1;32m     24\u001b[0m   \u001b[0mp\u001b[0m \u001b[0;34m=\u001b[0m \u001b[0;34m\"STOLJ_S[NORM='{:02d}xx'] -> '{}.'|'{}'|'{}'|'{}.'|'{}'|'{}'|'{}'|'{}'\"\u001b[0m\u001b[0;34m.\u001b[0m\u001b[0mformat\u001b[0m\u001b[0;34m(\u001b[0m\u001b[0;34m*\u001b[0m\u001b[0mformat_str\u001b[0m\u001b[0;34m)\u001b[0m\u001b[0;34m\u001b[0m\u001b[0;34m\u001b[0m\u001b[0m\n",
            "\u001b[0;31mNameError\u001b[0m: name 'int_to_roman' is not defined"
          ]
        }
      ]
    },
    {
      "cell_type": "code",
      "metadata": {
        "id": "C3Ze7N8_HX7W",
        "colab_type": "code",
        "outputId": "488a9462-542b-4d3d-8106-d94ae2f90e77",
        "colab": {
          "base_uri": "https://localhost:8080/",
          "height": 34
        }
      },
      "source": [
        "# spominjanje stoljeća u wikiju\n",
        "df1 = pd.read_csv('https://github.com/dlauc/inexactDates/raw/master/stoljeca_wiki.csv')\n",
        "print('različitih oblika = {}, ukupno = {}'.format(df1.text.count(), df1.n.sum()))\n"
      ],
      "execution_count": 0,
      "outputs": [
        {
          "output_type": "stream",
          "text": [
            "različitih oblika = 3163, ukupno = 97519\n"
          ],
          "name": "stdout"
        }
      ]
    },
    {
      "cell_type": "code",
      "metadata": {
        "id": "DBgBe-c_PzSJ",
        "colab_type": "code",
        "outputId": "5a3b627a-5947-4330-eb38-b24260d9f9ba",
        "colab": {
          "base_uri": "https://localhost:8080/",
          "height": 231
        }
      },
      "source": [
        "# prepoznavanje test\n",
        "parser = FeatureEarleyChartParser(grammar)\n",
        "test = df1[df1.n>100]\n",
        "test = test.sort_values(by=['n'], ascending=False).reset_index(drop=True)\n",
        "\n",
        "#print(test[0:100])\n",
        "for i in range(0,100):\n",
        "  s = test.at[i,'text'].split()\n",
        "  try:\n",
        "      trees = list(parser.parse(s))\n",
        "      if len(trees) == 0:\n",
        "        print(s, 'neprepoznato')\n",
        "      else:\n",
        "        print(s, 'OK')\n",
        "  except Exception as e:\n",
        "    print(e)"
      ],
      "execution_count": 0,
      "outputs": [
        {
          "output_type": "error",
          "ename": "NameError",
          "evalue": "ignored",
          "traceback": [
            "\u001b[0;31m---------------------------------------------------------------------------\u001b[0m",
            "\u001b[0;31mNameError\u001b[0m                                 Traceback (most recent call last)",
            "\u001b[0;32m<ipython-input-17-8d272708036e>\u001b[0m in \u001b[0;36m<module>\u001b[0;34m()\u001b[0m\n\u001b[0;32m----> 1\u001b[0;31m \u001b[0mparser\u001b[0m \u001b[0;34m=\u001b[0m \u001b[0mFeatureEarleyChartParser\u001b[0m\u001b[0;34m(\u001b[0m\u001b[0mgrammar\u001b[0m\u001b[0;34m)\u001b[0m\u001b[0;34m\u001b[0m\u001b[0;34m\u001b[0m\u001b[0m\n\u001b[0m\u001b[1;32m      2\u001b[0m \u001b[0mtest\u001b[0m \u001b[0;34m=\u001b[0m \u001b[0mdf1\u001b[0m\u001b[0;34m[\u001b[0m\u001b[0mdf1\u001b[0m\u001b[0;34m.\u001b[0m\u001b[0mn\u001b[0m\u001b[0;34m>\u001b[0m\u001b[0;36m100\u001b[0m\u001b[0;34m]\u001b[0m\u001b[0;34m\u001b[0m\u001b[0;34m\u001b[0m\u001b[0m\n\u001b[1;32m      3\u001b[0m \u001b[0mtest\u001b[0m \u001b[0;34m=\u001b[0m \u001b[0mtest\u001b[0m\u001b[0;34m.\u001b[0m\u001b[0msort_values\u001b[0m\u001b[0;34m(\u001b[0m\u001b[0mby\u001b[0m\u001b[0;34m=\u001b[0m\u001b[0;34m[\u001b[0m\u001b[0;34m'n'\u001b[0m\u001b[0;34m]\u001b[0m\u001b[0;34m,\u001b[0m \u001b[0mascending\u001b[0m\u001b[0;34m=\u001b[0m\u001b[0;32mFalse\u001b[0m\u001b[0;34m)\u001b[0m\u001b[0;34m.\u001b[0m\u001b[0mreset_index\u001b[0m\u001b[0;34m(\u001b[0m\u001b[0mdrop\u001b[0m\u001b[0;34m=\u001b[0m\u001b[0;32mTrue\u001b[0m\u001b[0;34m)\u001b[0m\u001b[0;34m\u001b[0m\u001b[0;34m\u001b[0m\u001b[0m\n\u001b[1;32m      4\u001b[0m \u001b[0;34m\u001b[0m\u001b[0m\n\u001b[1;32m      5\u001b[0m \u001b[0;31m#print(test[0:100])\u001b[0m\u001b[0;34m\u001b[0m\u001b[0;34m\u001b[0m\u001b[0;34m\u001b[0m\u001b[0m\n",
            "\u001b[0;31mNameError\u001b[0m: name 'grammar' is not defined"
          ]
        }
      ]
    },
    {
      "cell_type": "code",
      "metadata": {
        "id": "poiCGyl9fM1E",
        "colab_type": "code",
        "colab": {}
      },
      "source": [
        "#\n"
      ],
      "execution_count": 0,
      "outputs": []
    },
    {
      "cell_type": "markdown",
      "metadata": {
        "id": "1wYjzr-EHXM8",
        "colab_type": "text"
      },
      "source": [
        ""
      ]
    }
  ]
}